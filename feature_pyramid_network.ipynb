{
  "nbformat": 4,
  "nbformat_minor": 0,
  "metadata": {
    "colab": {
      "provenance": []
    },
    "kernelspec": {
      "name": "python3",
      "display_name": "Python 3"
    },
    "language_info": {
      "name": "python"
    }
  },
  "cells": [
    {
      "cell_type": "code",
      "execution_count": null,
      "metadata": {
        "id": "1eg_lxieU-BB"
      },
      "outputs": [],
      "source": [
        "import torch\n",
        "import torch.nn as nn\n",
        "import torchvision as tv\n",
        "from torchvision.models._utils import IntermediateLayerGetter\n",
        "from torchvision.ops.deform_conv import DeformConv2d"
      ]
    },
    {
      "cell_type": "markdown",
      "source": [
        "## Prerequisite of FPN"
      ],
      "metadata": {
        "id": "9NOmAF69uoR8"
      }
    },
    {
      "cell_type": "code",
      "source": [
        "# define a backbone model\n",
        "model = tv.models.resnet18()"
      ],
      "metadata": {
        "id": "bwiGy1Lvh3hm"
      },
      "execution_count": null,
      "outputs": []
    },
    {
      "cell_type": "code",
      "source": [
        "# defining the layers to be used\n",
        "layers = [\"layer1\", \"layer2\", \"layer3\", \"layer4\"]\n",
        "dict_modules = {layer: str(idx) for idx, layer in enumerate(layers)}"
      ],
      "metadata": {
        "id": "EuaFbAsBjsmH"
      },
      "execution_count": null,
      "outputs": []
    },
    {
      "cell_type": "code",
      "source": [
        "# getting the features from the mentioned layers by intermediate layer getter\n",
        "feature_extractor= IntermediateLayerGetter(model, dict_modules)"
      ],
      "metadata": {
        "id": "MOXCBLMzghdV"
      },
      "execution_count": null,
      "outputs": []
    },
    {
      "cell_type": "code",
      "source": [
        "# defining a dummy input\n",
        "x = torch.zeros((1, 3, 224, 224))"
      ],
      "metadata": {
        "id": "R6eZ-4oGgVVR"
      },
      "execution_count": null,
      "outputs": []
    },
    {
      "cell_type": "code",
      "source": [
        "# outputs from the abovementioned intermediate layers\n",
        "out = feature_extractor(x)"
      ],
      "metadata": {
        "id": "Drn_Ynw7iF23"
      },
      "execution_count": null,
      "outputs": []
    },
    {
      "cell_type": "code",
      "source": [
        "out"
      ],
      "metadata": {
        "colab": {
          "base_uri": "https://localhost:8080/"
        },
        "id": "YMNy97HRiQGg",
        "outputId": "e6f1b7b2-0d5a-4f59-d024-38c134ab2a0e"
      },
      "execution_count": null,
      "outputs": [
        {
          "output_type": "execute_result",
          "data": {
            "text/plain": [
              "OrderedDict([('0',\n",
              "              tensor([[[[0., 0., 0.,  ..., 0., 0., 0.],\n",
              "                        [0., 0., 0.,  ..., 0., 0., 0.],\n",
              "                        [0., 0., 0.,  ..., 0., 0., 0.],\n",
              "                        ...,\n",
              "                        [0., 0., 0.,  ..., 0., 0., 0.],\n",
              "                        [0., 0., 0.,  ..., 0., 0., 0.],\n",
              "                        [0., 0., 0.,  ..., 0., 0., 0.]],\n",
              "              \n",
              "                       [[0., 0., 0.,  ..., 0., 0., 0.],\n",
              "                        [0., 0., 0.,  ..., 0., 0., 0.],\n",
              "                        [0., 0., 0.,  ..., 0., 0., 0.],\n",
              "                        ...,\n",
              "                        [0., 0., 0.,  ..., 0., 0., 0.],\n",
              "                        [0., 0., 0.,  ..., 0., 0., 0.],\n",
              "                        [0., 0., 0.,  ..., 0., 0., 0.]],\n",
              "              \n",
              "                       [[0., 0., 0.,  ..., 0., 0., 0.],\n",
              "                        [0., 0., 0.,  ..., 0., 0., 0.],\n",
              "                        [0., 0., 0.,  ..., 0., 0., 0.],\n",
              "                        ...,\n",
              "                        [0., 0., 0.,  ..., 0., 0., 0.],\n",
              "                        [0., 0., 0.,  ..., 0., 0., 0.],\n",
              "                        [0., 0., 0.,  ..., 0., 0., 0.]],\n",
              "              \n",
              "                       ...,\n",
              "              \n",
              "                       [[0., 0., 0.,  ..., 0., 0., 0.],\n",
              "                        [0., 0., 0.,  ..., 0., 0., 0.],\n",
              "                        [0., 0., 0.,  ..., 0., 0., 0.],\n",
              "                        ...,\n",
              "                        [0., 0., 0.,  ..., 0., 0., 0.],\n",
              "                        [0., 0., 0.,  ..., 0., 0., 0.],\n",
              "                        [0., 0., 0.,  ..., 0., 0., 0.]],\n",
              "              \n",
              "                       [[0., 0., 0.,  ..., 0., 0., 0.],\n",
              "                        [0., 0., 0.,  ..., 0., 0., 0.],\n",
              "                        [0., 0., 0.,  ..., 0., 0., 0.],\n",
              "                        ...,\n",
              "                        [0., 0., 0.,  ..., 0., 0., 0.],\n",
              "                        [0., 0., 0.,  ..., 0., 0., 0.],\n",
              "                        [0., 0., 0.,  ..., 0., 0., 0.]],\n",
              "              \n",
              "                       [[0., 0., 0.,  ..., 0., 0., 0.],\n",
              "                        [0., 0., 0.,  ..., 0., 0., 0.],\n",
              "                        [0., 0., 0.,  ..., 0., 0., 0.],\n",
              "                        ...,\n",
              "                        [0., 0., 0.,  ..., 0., 0., 0.],\n",
              "                        [0., 0., 0.,  ..., 0., 0., 0.],\n",
              "                        [0., 0., 0.,  ..., 0., 0., 0.]]]], grad_fn=<ReluBackward0>)),\n",
              "             ('1',\n",
              "              tensor([[[[0., 0., 0.,  ..., 0., 0., 0.],\n",
              "                        [0., 0., 0.,  ..., 0., 0., 0.],\n",
              "                        [0., 0., 0.,  ..., 0., 0., 0.],\n",
              "                        ...,\n",
              "                        [0., 0., 0.,  ..., 0., 0., 0.],\n",
              "                        [0., 0., 0.,  ..., 0., 0., 0.],\n",
              "                        [0., 0., 0.,  ..., 0., 0., 0.]],\n",
              "              \n",
              "                       [[0., 0., 0.,  ..., 0., 0., 0.],\n",
              "                        [0., 0., 0.,  ..., 0., 0., 0.],\n",
              "                        [0., 0., 0.,  ..., 0., 0., 0.],\n",
              "                        ...,\n",
              "                        [0., 0., 0.,  ..., 0., 0., 0.],\n",
              "                        [0., 0., 0.,  ..., 0., 0., 0.],\n",
              "                        [0., 0., 0.,  ..., 0., 0., 0.]],\n",
              "              \n",
              "                       [[0., 0., 0.,  ..., 0., 0., 0.],\n",
              "                        [0., 0., 0.,  ..., 0., 0., 0.],\n",
              "                        [0., 0., 0.,  ..., 0., 0., 0.],\n",
              "                        ...,\n",
              "                        [0., 0., 0.,  ..., 0., 0., 0.],\n",
              "                        [0., 0., 0.,  ..., 0., 0., 0.],\n",
              "                        [0., 0., 0.,  ..., 0., 0., 0.]],\n",
              "              \n",
              "                       ...,\n",
              "              \n",
              "                       [[0., 0., 0.,  ..., 0., 0., 0.],\n",
              "                        [0., 0., 0.,  ..., 0., 0., 0.],\n",
              "                        [0., 0., 0.,  ..., 0., 0., 0.],\n",
              "                        ...,\n",
              "                        [0., 0., 0.,  ..., 0., 0., 0.],\n",
              "                        [0., 0., 0.,  ..., 0., 0., 0.],\n",
              "                        [0., 0., 0.,  ..., 0., 0., 0.]],\n",
              "              \n",
              "                       [[0., 0., 0.,  ..., 0., 0., 0.],\n",
              "                        [0., 0., 0.,  ..., 0., 0., 0.],\n",
              "                        [0., 0., 0.,  ..., 0., 0., 0.],\n",
              "                        ...,\n",
              "                        [0., 0., 0.,  ..., 0., 0., 0.],\n",
              "                        [0., 0., 0.,  ..., 0., 0., 0.],\n",
              "                        [0., 0., 0.,  ..., 0., 0., 0.]],\n",
              "              \n",
              "                       [[0., 0., 0.,  ..., 0., 0., 0.],\n",
              "                        [0., 0., 0.,  ..., 0., 0., 0.],\n",
              "                        [0., 0., 0.,  ..., 0., 0., 0.],\n",
              "                        ...,\n",
              "                        [0., 0., 0.,  ..., 0., 0., 0.],\n",
              "                        [0., 0., 0.,  ..., 0., 0., 0.],\n",
              "                        [0., 0., 0.,  ..., 0., 0., 0.]]]], grad_fn=<ReluBackward0>)),\n",
              "             ('2',\n",
              "              tensor([[[[0., 0., 0.,  ..., 0., 0., 0.],\n",
              "                        [0., 0., 0.,  ..., 0., 0., 0.],\n",
              "                        [0., 0., 0.,  ..., 0., 0., 0.],\n",
              "                        ...,\n",
              "                        [0., 0., 0.,  ..., 0., 0., 0.],\n",
              "                        [0., 0., 0.,  ..., 0., 0., 0.],\n",
              "                        [0., 0., 0.,  ..., 0., 0., 0.]],\n",
              "              \n",
              "                       [[0., 0., 0.,  ..., 0., 0., 0.],\n",
              "                        [0., 0., 0.,  ..., 0., 0., 0.],\n",
              "                        [0., 0., 0.,  ..., 0., 0., 0.],\n",
              "                        ...,\n",
              "                        [0., 0., 0.,  ..., 0., 0., 0.],\n",
              "                        [0., 0., 0.,  ..., 0., 0., 0.],\n",
              "                        [0., 0., 0.,  ..., 0., 0., 0.]],\n",
              "              \n",
              "                       [[0., 0., 0.,  ..., 0., 0., 0.],\n",
              "                        [0., 0., 0.,  ..., 0., 0., 0.],\n",
              "                        [0., 0., 0.,  ..., 0., 0., 0.],\n",
              "                        ...,\n",
              "                        [0., 0., 0.,  ..., 0., 0., 0.],\n",
              "                        [0., 0., 0.,  ..., 0., 0., 0.],\n",
              "                        [0., 0., 0.,  ..., 0., 0., 0.]],\n",
              "              \n",
              "                       ...,\n",
              "              \n",
              "                       [[0., 0., 0.,  ..., 0., 0., 0.],\n",
              "                        [0., 0., 0.,  ..., 0., 0., 0.],\n",
              "                        [0., 0., 0.,  ..., 0., 0., 0.],\n",
              "                        ...,\n",
              "                        [0., 0., 0.,  ..., 0., 0., 0.],\n",
              "                        [0., 0., 0.,  ..., 0., 0., 0.],\n",
              "                        [0., 0., 0.,  ..., 0., 0., 0.]],\n",
              "              \n",
              "                       [[0., 0., 0.,  ..., 0., 0., 0.],\n",
              "                        [0., 0., 0.,  ..., 0., 0., 0.],\n",
              "                        [0., 0., 0.,  ..., 0., 0., 0.],\n",
              "                        ...,\n",
              "                        [0., 0., 0.,  ..., 0., 0., 0.],\n",
              "                        [0., 0., 0.,  ..., 0., 0., 0.],\n",
              "                        [0., 0., 0.,  ..., 0., 0., 0.]],\n",
              "              \n",
              "                       [[0., 0., 0.,  ..., 0., 0., 0.],\n",
              "                        [0., 0., 0.,  ..., 0., 0., 0.],\n",
              "                        [0., 0., 0.,  ..., 0., 0., 0.],\n",
              "                        ...,\n",
              "                        [0., 0., 0.,  ..., 0., 0., 0.],\n",
              "                        [0., 0., 0.,  ..., 0., 0., 0.],\n",
              "                        [0., 0., 0.,  ..., 0., 0., 0.]]]], grad_fn=<ReluBackward0>)),\n",
              "             ('3',\n",
              "              tensor([[[[0., 0., 0.,  ..., 0., 0., 0.],\n",
              "                        [0., 0., 0.,  ..., 0., 0., 0.],\n",
              "                        [0., 0., 0.,  ..., 0., 0., 0.],\n",
              "                        ...,\n",
              "                        [0., 0., 0.,  ..., 0., 0., 0.],\n",
              "                        [0., 0., 0.,  ..., 0., 0., 0.],\n",
              "                        [0., 0., 0.,  ..., 0., 0., 0.]],\n",
              "              \n",
              "                       [[0., 0., 0.,  ..., 0., 0., 0.],\n",
              "                        [0., 0., 0.,  ..., 0., 0., 0.],\n",
              "                        [0., 0., 0.,  ..., 0., 0., 0.],\n",
              "                        ...,\n",
              "                        [0., 0., 0.,  ..., 0., 0., 0.],\n",
              "                        [0., 0., 0.,  ..., 0., 0., 0.],\n",
              "                        [0., 0., 0.,  ..., 0., 0., 0.]],\n",
              "              \n",
              "                       [[0., 0., 0.,  ..., 0., 0., 0.],\n",
              "                        [0., 0., 0.,  ..., 0., 0., 0.],\n",
              "                        [0., 0., 0.,  ..., 0., 0., 0.],\n",
              "                        ...,\n",
              "                        [0., 0., 0.,  ..., 0., 0., 0.],\n",
              "                        [0., 0., 0.,  ..., 0., 0., 0.],\n",
              "                        [0., 0., 0.,  ..., 0., 0., 0.]],\n",
              "              \n",
              "                       ...,\n",
              "              \n",
              "                       [[0., 0., 0.,  ..., 0., 0., 0.],\n",
              "                        [0., 0., 0.,  ..., 0., 0., 0.],\n",
              "                        [0., 0., 0.,  ..., 0., 0., 0.],\n",
              "                        ...,\n",
              "                        [0., 0., 0.,  ..., 0., 0., 0.],\n",
              "                        [0., 0., 0.,  ..., 0., 0., 0.],\n",
              "                        [0., 0., 0.,  ..., 0., 0., 0.]],\n",
              "              \n",
              "                       [[0., 0., 0.,  ..., 0., 0., 0.],\n",
              "                        [0., 0., 0.,  ..., 0., 0., 0.],\n",
              "                        [0., 0., 0.,  ..., 0., 0., 0.],\n",
              "                        ...,\n",
              "                        [0., 0., 0.,  ..., 0., 0., 0.],\n",
              "                        [0., 0., 0.,  ..., 0., 0., 0.],\n",
              "                        [0., 0., 0.,  ..., 0., 0., 0.]],\n",
              "              \n",
              "                       [[0., 0., 0.,  ..., 0., 0., 0.],\n",
              "                        [0., 0., 0.,  ..., 0., 0., 0.],\n",
              "                        [0., 0., 0.,  ..., 0., 0., 0.],\n",
              "                        ...,\n",
              "                        [0., 0., 0.,  ..., 0., 0., 0.],\n",
              "                        [0., 0., 0.,  ..., 0., 0., 0.],\n",
              "                        [0., 0., 0.,  ..., 0., 0., 0.]]]], grad_fn=<ReluBackward0>))])"
            ]
          },
          "metadata": {},
          "execution_count": 15
        }
      ]
    },
    {
      "cell_type": "markdown",
      "source": [
        "## Defining the Feature Pyramid Network"
      ],
      "metadata": {
        "id": "a-86cObClAs6"
      }
    },
    {
      "cell_type": "code",
      "source": [
        "out.keys()"
      ],
      "metadata": {
        "colab": {
          "base_uri": "https://localhost:8080/"
        },
        "id": "75NQM-wAkK6f",
        "outputId": "f0ad1c7b-44a4-4965-f284-975db9dca9b1"
      },
      "execution_count": null,
      "outputs": [
        {
          "output_type": "execute_result",
          "data": {
            "text/plain": [
              "odict_keys(['0', '1', '2', '3'])"
            ]
          },
          "metadata": {},
          "execution_count": 16
        }
      ]
    },
    {
      "cell_type": "code",
      "source": [
        "in_channels = [o.shape[1] for _, o in out.items()] # getting the number of channels for the input to FPN\n",
        "out_channels = 256\n",
        "\n",
        "out_channs = out_channels // len(in_channels)"
      ],
      "metadata": {
        "id": "bLWrGE5YWc8H"
      },
      "execution_count": null,
      "outputs": []
    },
    {
      "cell_type": "code",
      "source": [
        "# defining the bottom up network\n",
        "bottom_up_branches = nn.ModuleList(\n",
        "    [\n",
        "        nn.Sequential(\n",
        "            DeformConv2d(channels, out_channels, 1, bias=False),\n",
        "            nn.BatchNorm2d(out_channels),\n",
        "            nn.ReLU(inplace=True)\n",
        "        )\n",
        "        for _, channels in enumerate(in_channels)\n",
        "    ]\n",
        ")"
      ],
      "metadata": {
        "id": "cnRbpiaZl_Fg"
      },
      "execution_count": null,
      "outputs": []
    },
    {
      "cell_type": "code",
      "source": [
        "# upsample branch\n",
        "upsample_branch = nn.Upsample(scale_factor=2, mode=\"bilinear\", align_corners=True)"
      ],
      "metadata": {
        "id": "rKBfyDIlniJh"
      },
      "execution_count": null,
      "outputs": []
    },
    {
      "cell_type": "code",
      "source": [
        "# defining the top down network\n",
        "top_down_branches = nn.ModuleList(\n",
        "    [\n",
        "        nn.Sequential(\n",
        "            DeformConv2d(out_channels, out_channs, 3, padding=1, bias=False),\n",
        "            nn.BatchNorm2d(out_channs),\n",
        "            nn.ReLU(inplace=True),\n",
        "            nn.Upsample(scale_factor=2 ** idx, mode=\"bilinear\", align_corners=True)\n",
        "\n",
        "        )\n",
        "        for idx, _ in enumerate(in_channels)\n",
        "    ]\n",
        ")"
      ],
      "metadata": {
        "id": "DhDtmOYZnwFX"
      },
      "execution_count": null,
      "outputs": []
    },
    {
      "cell_type": "markdown",
      "source": [
        "## Generating the features"
      ],
      "metadata": {
        "id": "Sq5UTsMtqDie"
      }
    },
    {
      "cell_type": "code",
      "source": [
        "# defining a dummy tensor in case the image is not given\n",
        "dummy_in = torch.randn((1, 3, 224, 224))\n",
        "\n",
        "# defining the wrapper for generating the features\n",
        "def generate_features(image: torch.Tensor=dummy_in):\n",
        "\n",
        "    features = feature_extractor(image)\n",
        "    x: list[torch.Tensor] = [features[str(idx)] for idx in range(len(features))]\n",
        "\n",
        "    assert len(x) == len(top_down_branches)\n",
        "\n",
        "    _x: list[torch.Tensor] = [branch(t) for branch, t in zip(bottom_up_branches, x)]\n",
        "    out: list[torch.Tensor] = [_x[-1]]\n",
        "\n",
        "    for t in _x[:-1][::-1]: # reversing the list barring the last element\n",
        "        out.append(upsample_branch(out[-1]) + t)\n",
        "\n",
        "    out_ = [branch(t) for branch, t in zip(top_down_branches, out[::-1])]\n",
        "\n",
        "    return torch.cat(out_, dim=1)"
      ],
      "metadata": {
        "id": "t4WAyektp6Jc"
      },
      "execution_count": null,
      "outputs": []
    },
    {
      "cell_type": "code",
      "source": [
        "generate_features(dummy_in)"
      ],
      "metadata": {
        "id": "rdGLLnrRsa1j"
      },
      "execution_count": null,
      "outputs": []
    }
  ]
}