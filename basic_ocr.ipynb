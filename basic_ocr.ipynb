{
  "nbformat": 4,
  "nbformat_minor": 0,
  "metadata": {
    "colab": {
      "provenance": [],
      "authorship_tag": "ABX9TyMfzL4QzSrP0HKMHbWlxx+Q",
      "include_colab_link": true
    },
    "kernelspec": {
      "name": "python3",
      "display_name": "Python 3"
    },
    "language_info": {
      "name": "python"
    },
    "widgets": {
      "application/vnd.jupyter.widget-state+json": {
        "2a4e64c4451b46479bcc9a53c8825cae": {
          "model_module": "@jupyter-widgets/controls",
          "model_name": "HBoxModel",
          "model_module_version": "1.5.0",
          "state": {
            "_dom_classes": [],
            "_model_module": "@jupyter-widgets/controls",
            "_model_module_version": "1.5.0",
            "_model_name": "HBoxModel",
            "_view_count": null,
            "_view_module": "@jupyter-widgets/controls",
            "_view_module_version": "1.5.0",
            "_view_name": "HBoxView",
            "box_style": "",
            "children": [
              "IPY_MODEL_e362d406534d48a3ab8c4394d8907854",
              "IPY_MODEL_631e418c1c17475886722dad1308193d",
              "IPY_MODEL_b81de2c22f0f4ecf827077f33d7b21c1"
            ],
            "layout": "IPY_MODEL_dc0f850b62dc4a4d802c967e7ee5ea66"
          }
        },
        "e362d406534d48a3ab8c4394d8907854": {
          "model_module": "@jupyter-widgets/controls",
          "model_name": "HTMLModel",
          "model_module_version": "1.5.0",
          "state": {
            "_dom_classes": [],
            "_model_module": "@jupyter-widgets/controls",
            "_model_module_version": "1.5.0",
            "_model_name": "HTMLModel",
            "_view_count": null,
            "_view_module": "@jupyter-widgets/controls",
            "_view_module_version": "1.5.0",
            "_view_name": "HTMLView",
            "description": "",
            "description_tooltip": null,
            "layout": "IPY_MODEL_b1f3052e3ba54737908636c71f49fc19",
            "placeholder": "​",
            "style": "IPY_MODEL_237b6f1251e644b0949fbfe73980015a",
            "value": ""
          }
        },
        "631e418c1c17475886722dad1308193d": {
          "model_module": "@jupyter-widgets/controls",
          "model_name": "FloatProgressModel",
          "model_module_version": "1.5.0",
          "state": {
            "_dom_classes": [],
            "_model_module": "@jupyter-widgets/controls",
            "_model_module_version": "1.5.0",
            "_model_name": "FloatProgressModel",
            "_view_count": null,
            "_view_module": "@jupyter-widgets/controls",
            "_view_module_version": "1.5.0",
            "_view_name": "ProgressView",
            "bar_style": "success",
            "description": "",
            "description_tooltip": null,
            "layout": "IPY_MODEL_62771a10868c4a12ad080eb6d19d3ae6",
            "max": 101971449,
            "min": 0,
            "orientation": "horizontal",
            "style": "IPY_MODEL_57095042eaff4415bf0337182b550cdb",
            "value": 101971449
          }
        },
        "b81de2c22f0f4ecf827077f33d7b21c1": {
          "model_module": "@jupyter-widgets/controls",
          "model_name": "HTMLModel",
          "model_module_version": "1.5.0",
          "state": {
            "_dom_classes": [],
            "_model_module": "@jupyter-widgets/controls",
            "_model_module_version": "1.5.0",
            "_model_name": "HTMLModel",
            "_view_count": null,
            "_view_module": "@jupyter-widgets/controls",
            "_view_module_version": "1.5.0",
            "_view_name": "HTMLView",
            "description": "",
            "description_tooltip": null,
            "layout": "IPY_MODEL_d68a5ad3f0f745ae82b3bfe2854dcd9d",
            "placeholder": "​",
            "style": "IPY_MODEL_bb5ce7ee066b4a85924dbe0dcbfa8da1",
            "value": " 101971968/? [00:01&lt;00:00, 93623758.34it/s]"
          }
        },
        "dc0f850b62dc4a4d802c967e7ee5ea66": {
          "model_module": "@jupyter-widgets/base",
          "model_name": "LayoutModel",
          "model_module_version": "1.2.0",
          "state": {
            "_model_module": "@jupyter-widgets/base",
            "_model_module_version": "1.2.0",
            "_model_name": "LayoutModel",
            "_view_count": null,
            "_view_module": "@jupyter-widgets/base",
            "_view_module_version": "1.2.0",
            "_view_name": "LayoutView",
            "align_content": null,
            "align_items": null,
            "align_self": null,
            "border": null,
            "bottom": null,
            "display": null,
            "flex": null,
            "flex_flow": null,
            "grid_area": null,
            "grid_auto_columns": null,
            "grid_auto_flow": null,
            "grid_auto_rows": null,
            "grid_column": null,
            "grid_gap": null,
            "grid_row": null,
            "grid_template_areas": null,
            "grid_template_columns": null,
            "grid_template_rows": null,
            "height": null,
            "justify_content": null,
            "justify_items": null,
            "left": null,
            "margin": null,
            "max_height": null,
            "max_width": null,
            "min_height": null,
            "min_width": null,
            "object_fit": null,
            "object_position": null,
            "order": null,
            "overflow": null,
            "overflow_x": null,
            "overflow_y": null,
            "padding": null,
            "right": null,
            "top": null,
            "visibility": null,
            "width": null
          }
        },
        "b1f3052e3ba54737908636c71f49fc19": {
          "model_module": "@jupyter-widgets/base",
          "model_name": "LayoutModel",
          "model_module_version": "1.2.0",
          "state": {
            "_model_module": "@jupyter-widgets/base",
            "_model_module_version": "1.2.0",
            "_model_name": "LayoutModel",
            "_view_count": null,
            "_view_module": "@jupyter-widgets/base",
            "_view_module_version": "1.2.0",
            "_view_name": "LayoutView",
            "align_content": null,
            "align_items": null,
            "align_self": null,
            "border": null,
            "bottom": null,
            "display": null,
            "flex": null,
            "flex_flow": null,
            "grid_area": null,
            "grid_auto_columns": null,
            "grid_auto_flow": null,
            "grid_auto_rows": null,
            "grid_column": null,
            "grid_gap": null,
            "grid_row": null,
            "grid_template_areas": null,
            "grid_template_columns": null,
            "grid_template_rows": null,
            "height": null,
            "justify_content": null,
            "justify_items": null,
            "left": null,
            "margin": null,
            "max_height": null,
            "max_width": null,
            "min_height": null,
            "min_width": null,
            "object_fit": null,
            "object_position": null,
            "order": null,
            "overflow": null,
            "overflow_x": null,
            "overflow_y": null,
            "padding": null,
            "right": null,
            "top": null,
            "visibility": null,
            "width": null
          }
        },
        "237b6f1251e644b0949fbfe73980015a": {
          "model_module": "@jupyter-widgets/controls",
          "model_name": "DescriptionStyleModel",
          "model_module_version": "1.5.0",
          "state": {
            "_model_module": "@jupyter-widgets/controls",
            "_model_module_version": "1.5.0",
            "_model_name": "DescriptionStyleModel",
            "_view_count": null,
            "_view_module": "@jupyter-widgets/base",
            "_view_module_version": "1.2.0",
            "_view_name": "StyleView",
            "description_width": ""
          }
        },
        "62771a10868c4a12ad080eb6d19d3ae6": {
          "model_module": "@jupyter-widgets/base",
          "model_name": "LayoutModel",
          "model_module_version": "1.2.0",
          "state": {
            "_model_module": "@jupyter-widgets/base",
            "_model_module_version": "1.2.0",
            "_model_name": "LayoutModel",
            "_view_count": null,
            "_view_module": "@jupyter-widgets/base",
            "_view_module_version": "1.2.0",
            "_view_name": "LayoutView",
            "align_content": null,
            "align_items": null,
            "align_self": null,
            "border": null,
            "bottom": null,
            "display": null,
            "flex": null,
            "flex_flow": null,
            "grid_area": null,
            "grid_auto_columns": null,
            "grid_auto_flow": null,
            "grid_auto_rows": null,
            "grid_column": null,
            "grid_gap": null,
            "grid_row": null,
            "grid_template_areas": null,
            "grid_template_columns": null,
            "grid_template_rows": null,
            "height": null,
            "justify_content": null,
            "justify_items": null,
            "left": null,
            "margin": null,
            "max_height": null,
            "max_width": null,
            "min_height": null,
            "min_width": null,
            "object_fit": null,
            "object_position": null,
            "order": null,
            "overflow": null,
            "overflow_x": null,
            "overflow_y": null,
            "padding": null,
            "right": null,
            "top": null,
            "visibility": null,
            "width": null
          }
        },
        "57095042eaff4415bf0337182b550cdb": {
          "model_module": "@jupyter-widgets/controls",
          "model_name": "ProgressStyleModel",
          "model_module_version": "1.5.0",
          "state": {
            "_model_module": "@jupyter-widgets/controls",
            "_model_module_version": "1.5.0",
            "_model_name": "ProgressStyleModel",
            "_view_count": null,
            "_view_module": "@jupyter-widgets/base",
            "_view_module_version": "1.2.0",
            "_view_name": "StyleView",
            "bar_color": null,
            "description_width": ""
          }
        },
        "d68a5ad3f0f745ae82b3bfe2854dcd9d": {
          "model_module": "@jupyter-widgets/base",
          "model_name": "LayoutModel",
          "model_module_version": "1.2.0",
          "state": {
            "_model_module": "@jupyter-widgets/base",
            "_model_module_version": "1.2.0",
            "_model_name": "LayoutModel",
            "_view_count": null,
            "_view_module": "@jupyter-widgets/base",
            "_view_module_version": "1.2.0",
            "_view_name": "LayoutView",
            "align_content": null,
            "align_items": null,
            "align_self": null,
            "border": null,
            "bottom": null,
            "display": null,
            "flex": null,
            "flex_flow": null,
            "grid_area": null,
            "grid_auto_columns": null,
            "grid_auto_flow": null,
            "grid_auto_rows": null,
            "grid_column": null,
            "grid_gap": null,
            "grid_row": null,
            "grid_template_areas": null,
            "grid_template_columns": null,
            "grid_template_rows": null,
            "height": null,
            "justify_content": null,
            "justify_items": null,
            "left": null,
            "margin": null,
            "max_height": null,
            "max_width": null,
            "min_height": null,
            "min_width": null,
            "object_fit": null,
            "object_position": null,
            "order": null,
            "overflow": null,
            "overflow_x": null,
            "overflow_y": null,
            "padding": null,
            "right": null,
            "top": null,
            "visibility": null,
            "width": null
          }
        },
        "bb5ce7ee066b4a85924dbe0dcbfa8da1": {
          "model_module": "@jupyter-widgets/controls",
          "model_name": "DescriptionStyleModel",
          "model_module_version": "1.5.0",
          "state": {
            "_model_module": "@jupyter-widgets/controls",
            "_model_module_version": "1.5.0",
            "_model_name": "DescriptionStyleModel",
            "_view_count": null,
            "_view_module": "@jupyter-widgets/base",
            "_view_module_version": "1.2.0",
            "_view_name": "StyleView",
            "description_width": ""
          }
        },
        "20729df9329640eaab8ad5ac5fd8eb65": {
          "model_module": "@jupyter-widgets/controls",
          "model_name": "HBoxModel",
          "model_module_version": "1.5.0",
          "state": {
            "_dom_classes": [],
            "_model_module": "@jupyter-widgets/controls",
            "_model_module_version": "1.5.0",
            "_model_name": "HBoxModel",
            "_view_count": null,
            "_view_module": "@jupyter-widgets/controls",
            "_view_module_version": "1.5.0",
            "_view_name": "HBoxView",
            "box_style": "",
            "children": [
              "IPY_MODEL_33174a4327c340e0839ba1bb5d941259",
              "IPY_MODEL_8c3f20c95f9247feb039887f849333e9",
              "IPY_MODEL_149c5ac5abbf4e6abb3b49809765d031"
            ],
            "layout": "IPY_MODEL_3d3c7def3f27446a9347a23a10beb206"
          }
        },
        "33174a4327c340e0839ba1bb5d941259": {
          "model_module": "@jupyter-widgets/controls",
          "model_name": "HTMLModel",
          "model_module_version": "1.5.0",
          "state": {
            "_dom_classes": [],
            "_model_module": "@jupyter-widgets/controls",
            "_model_module_version": "1.5.0",
            "_model_name": "HTMLModel",
            "_view_count": null,
            "_view_module": "@jupyter-widgets/controls",
            "_view_module_version": "1.5.0",
            "_view_name": "HTMLView",
            "description": "",
            "description_tooltip": null,
            "layout": "IPY_MODEL_86257766deea4ddfbb033ac5de7fb0cc",
            "placeholder": "​",
            "style": "IPY_MODEL_060ffedb80b540bc92c08151472c48a9",
            "value": ""
          }
        },
        "8c3f20c95f9247feb039887f849333e9": {
          "model_module": "@jupyter-widgets/controls",
          "model_name": "FloatProgressModel",
          "model_module_version": "1.5.0",
          "state": {
            "_dom_classes": [],
            "_model_module": "@jupyter-widgets/controls",
            "_model_module_version": "1.5.0",
            "_model_name": "FloatProgressModel",
            "_view_count": null,
            "_view_module": "@jupyter-widgets/controls",
            "_view_module_version": "1.5.0",
            "_view_name": "ProgressView",
            "bar_style": "success",
            "description": "",
            "description_tooltip": null,
            "layout": "IPY_MODEL_2a9017ae8c9f458d86befba815d1d738",
            "max": 63286381,
            "min": 0,
            "orientation": "horizontal",
            "style": "IPY_MODEL_f1faf68c75f04ec5adc8d0d609b98f13",
            "value": 63286381
          }
        },
        "149c5ac5abbf4e6abb3b49809765d031": {
          "model_module": "@jupyter-widgets/controls",
          "model_name": "HTMLModel",
          "model_module_version": "1.5.0",
          "state": {
            "_dom_classes": [],
            "_model_module": "@jupyter-widgets/controls",
            "_model_module_version": "1.5.0",
            "_model_name": "HTMLModel",
            "_view_count": null,
            "_view_module": "@jupyter-widgets/controls",
            "_view_module_version": "1.5.0",
            "_view_name": "HTMLView",
            "description": "",
            "description_tooltip": null,
            "layout": "IPY_MODEL_4482129a248544bc957ec3ea81f823f1",
            "placeholder": "​",
            "style": "IPY_MODEL_a06b14ce67724155a2d409e3c1a2f221",
            "value": " 63287296/? [00:00&lt;00:00, 142552237.16it/s]"
          }
        },
        "3d3c7def3f27446a9347a23a10beb206": {
          "model_module": "@jupyter-widgets/base",
          "model_name": "LayoutModel",
          "model_module_version": "1.2.0",
          "state": {
            "_model_module": "@jupyter-widgets/base",
            "_model_module_version": "1.2.0",
            "_model_name": "LayoutModel",
            "_view_count": null,
            "_view_module": "@jupyter-widgets/base",
            "_view_module_version": "1.2.0",
            "_view_name": "LayoutView",
            "align_content": null,
            "align_items": null,
            "align_self": null,
            "border": null,
            "bottom": null,
            "display": null,
            "flex": null,
            "flex_flow": null,
            "grid_area": null,
            "grid_auto_columns": null,
            "grid_auto_flow": null,
            "grid_auto_rows": null,
            "grid_column": null,
            "grid_gap": null,
            "grid_row": null,
            "grid_template_areas": null,
            "grid_template_columns": null,
            "grid_template_rows": null,
            "height": null,
            "justify_content": null,
            "justify_items": null,
            "left": null,
            "margin": null,
            "max_height": null,
            "max_width": null,
            "min_height": null,
            "min_width": null,
            "object_fit": null,
            "object_position": null,
            "order": null,
            "overflow": null,
            "overflow_x": null,
            "overflow_y": null,
            "padding": null,
            "right": null,
            "top": null,
            "visibility": null,
            "width": null
          }
        },
        "86257766deea4ddfbb033ac5de7fb0cc": {
          "model_module": "@jupyter-widgets/base",
          "model_name": "LayoutModel",
          "model_module_version": "1.2.0",
          "state": {
            "_model_module": "@jupyter-widgets/base",
            "_model_module_version": "1.2.0",
            "_model_name": "LayoutModel",
            "_view_count": null,
            "_view_module": "@jupyter-widgets/base",
            "_view_module_version": "1.2.0",
            "_view_name": "LayoutView",
            "align_content": null,
            "align_items": null,
            "align_self": null,
            "border": null,
            "bottom": null,
            "display": null,
            "flex": null,
            "flex_flow": null,
            "grid_area": null,
            "grid_auto_columns": null,
            "grid_auto_flow": null,
            "grid_auto_rows": null,
            "grid_column": null,
            "grid_gap": null,
            "grid_row": null,
            "grid_template_areas": null,
            "grid_template_columns": null,
            "grid_template_rows": null,
            "height": null,
            "justify_content": null,
            "justify_items": null,
            "left": null,
            "margin": null,
            "max_height": null,
            "max_width": null,
            "min_height": null,
            "min_width": null,
            "object_fit": null,
            "object_position": null,
            "order": null,
            "overflow": null,
            "overflow_x": null,
            "overflow_y": null,
            "padding": null,
            "right": null,
            "top": null,
            "visibility": null,
            "width": null
          }
        },
        "060ffedb80b540bc92c08151472c48a9": {
          "model_module": "@jupyter-widgets/controls",
          "model_name": "DescriptionStyleModel",
          "model_module_version": "1.5.0",
          "state": {
            "_model_module": "@jupyter-widgets/controls",
            "_model_module_version": "1.5.0",
            "_model_name": "DescriptionStyleModel",
            "_view_count": null,
            "_view_module": "@jupyter-widgets/base",
            "_view_module_version": "1.2.0",
            "_view_name": "StyleView",
            "description_width": ""
          }
        },
        "2a9017ae8c9f458d86befba815d1d738": {
          "model_module": "@jupyter-widgets/base",
          "model_name": "LayoutModel",
          "model_module_version": "1.2.0",
          "state": {
            "_model_module": "@jupyter-widgets/base",
            "_model_module_version": "1.2.0",
            "_model_name": "LayoutModel",
            "_view_count": null,
            "_view_module": "@jupyter-widgets/base",
            "_view_module_version": "1.2.0",
            "_view_name": "LayoutView",
            "align_content": null,
            "align_items": null,
            "align_self": null,
            "border": null,
            "bottom": null,
            "display": null,
            "flex": null,
            "flex_flow": null,
            "grid_area": null,
            "grid_auto_columns": null,
            "grid_auto_flow": null,
            "grid_auto_rows": null,
            "grid_column": null,
            "grid_gap": null,
            "grid_row": null,
            "grid_template_areas": null,
            "grid_template_columns": null,
            "grid_template_rows": null,
            "height": null,
            "justify_content": null,
            "justify_items": null,
            "left": null,
            "margin": null,
            "max_height": null,
            "max_width": null,
            "min_height": null,
            "min_width": null,
            "object_fit": null,
            "object_position": null,
            "order": null,
            "overflow": null,
            "overflow_x": null,
            "overflow_y": null,
            "padding": null,
            "right": null,
            "top": null,
            "visibility": null,
            "width": null
          }
        },
        "f1faf68c75f04ec5adc8d0d609b98f13": {
          "model_module": "@jupyter-widgets/controls",
          "model_name": "ProgressStyleModel",
          "model_module_version": "1.5.0",
          "state": {
            "_model_module": "@jupyter-widgets/controls",
            "_model_module_version": "1.5.0",
            "_model_name": "ProgressStyleModel",
            "_view_count": null,
            "_view_module": "@jupyter-widgets/base",
            "_view_module_version": "1.2.0",
            "_view_name": "StyleView",
            "bar_color": null,
            "description_width": ""
          }
        },
        "4482129a248544bc957ec3ea81f823f1": {
          "model_module": "@jupyter-widgets/base",
          "model_name": "LayoutModel",
          "model_module_version": "1.2.0",
          "state": {
            "_model_module": "@jupyter-widgets/base",
            "_model_module_version": "1.2.0",
            "_model_name": "LayoutModel",
            "_view_count": null,
            "_view_module": "@jupyter-widgets/base",
            "_view_module_version": "1.2.0",
            "_view_name": "LayoutView",
            "align_content": null,
            "align_items": null,
            "align_self": null,
            "border": null,
            "bottom": null,
            "display": null,
            "flex": null,
            "flex_flow": null,
            "grid_area": null,
            "grid_auto_columns": null,
            "grid_auto_flow": null,
            "grid_auto_rows": null,
            "grid_column": null,
            "grid_gap": null,
            "grid_row": null,
            "grid_template_areas": null,
            "grid_template_columns": null,
            "grid_template_rows": null,
            "height": null,
            "justify_content": null,
            "justify_items": null,
            "left": null,
            "margin": null,
            "max_height": null,
            "max_width": null,
            "min_height": null,
            "min_width": null,
            "object_fit": null,
            "object_position": null,
            "order": null,
            "overflow": null,
            "overflow_x": null,
            "overflow_y": null,
            "padding": null,
            "right": null,
            "top": null,
            "visibility": null,
            "width": null
          }
        },
        "a06b14ce67724155a2d409e3c1a2f221": {
          "model_module": "@jupyter-widgets/controls",
          "model_name": "DescriptionStyleModel",
          "model_module_version": "1.5.0",
          "state": {
            "_model_module": "@jupyter-widgets/controls",
            "_model_module_version": "1.5.0",
            "_model_name": "DescriptionStyleModel",
            "_view_count": null,
            "_view_module": "@jupyter-widgets/base",
            "_view_module_version": "1.2.0",
            "_view_name": "StyleView",
            "description_width": ""
          }
        }
      }
    }
  },
  "cells": [
    {
      "cell_type": "markdown",
      "metadata": {
        "id": "view-in-github",
        "colab_type": "text"
      },
      "source": [
        "<a href=\"https://colab.research.google.com/github/Saurabhbaghel/ocr-e-learning-workbooks/blob/main/basic_ocr.ipynb\" target=\"_parent\"><img src=\"https://colab.research.google.com/assets/colab-badge.svg\" alt=\"Open In Colab\"/></a>"
      ]
    },
    {
      "cell_type": "markdown",
      "source": [
        "# Installing Doctr for torch"
      ],
      "metadata": {
        "id": "xWlUf-M0ot_v"
      }
    },
    {
      "cell_type": "code",
      "execution_count": null,
      "metadata": {
        "colab": {
          "base_uri": "https://localhost:8080/",
          "height": 1000
        },
        "id": "wPfqpaTWnkba",
        "outputId": "a0638956-57dd-41b8-809a-91c3186dacc6"
      },
      "outputs": [
        {
          "output_type": "stream",
          "name": "stdout",
          "text": [
            "Looking in indexes: https://pypi.org/simple, https://us-python.pkg.dev/colab-wheels/public/simple/\n",
            "Collecting python-doctr[torch]\n",
            "  Downloading python_doctr-0.6.0-py3-none-any.whl (239 kB)\n",
            "\u001b[2K     \u001b[90m━━━━━━━━━━━━━━━━━━━━━━━━━━━━━━━━━━━━━━━\u001b[0m \u001b[32m239.3/239.3 KB\u001b[0m \u001b[31m2.3 MB/s\u001b[0m eta \u001b[36m0:00:00\u001b[0m\n",
            "\u001b[?25hCollecting rapidfuzz>=1.6.0\n",
            "  Downloading rapidfuzz-2.13.7-cp39-cp39-manylinux_2_17_x86_64.manylinux2014_x86_64.whl (2.2 MB)\n",
            "\u001b[2K     \u001b[90m━━━━━━━━━━━━━━━━━━━━━━━━━━━━━━━━━━━━━━━━\u001b[0m \u001b[32m2.2/2.2 MB\u001b[0m \u001b[31m31.2 MB/s\u001b[0m eta \u001b[36m0:00:00\u001b[0m\n",
            "\u001b[?25hRequirement already satisfied: defusedxml>=0.7.0 in /usr/local/lib/python3.9/dist-packages (from python-doctr[torch]) (0.7.1)\n",
            "Requirement already satisfied: Pillow>=8.3.2 in /usr/local/lib/python3.9/dist-packages (from python-doctr[torch]) (8.4.0)\n",
            "Requirement already satisfied: scipy<2.0.0,>=1.4.0 in /usr/local/lib/python3.9/dist-packages (from python-doctr[torch]) (1.10.1)\n",
            "Requirement already satisfied: numpy<2.0.0,>=1.16.0 in /usr/local/lib/python3.9/dist-packages (from python-doctr[torch]) (1.22.4)\n",
            "Collecting shapely<2.0.0,>=1.6.0\n",
            "  Downloading Shapely-1.8.5.post1-cp39-cp39-manylinux_2_12_x86_64.manylinux2010_x86_64.whl (2.1 MB)\n",
            "\u001b[2K     \u001b[90m━━━━━━━━━━━━━━━━━━━━━━━━━━━━━━━━━━━━━━━━\u001b[0m \u001b[32m2.1/2.1 MB\u001b[0m \u001b[31m59.8 MB/s\u001b[0m eta \u001b[36m0:00:00\u001b[0m\n",
            "\u001b[?25hRequirement already satisfied: matplotlib>=3.1.0 in /usr/local/lib/python3.9/dist-packages (from python-doctr[torch]) (3.7.1)\n",
            "Collecting pyclipper<2.0.0,>=1.2.0\n",
            "  Downloading pyclipper-1.3.0.post4-cp39-cp39-manylinux_2_5_x86_64.manylinux1_x86_64.whl (608 kB)\n",
            "\u001b[2K     \u001b[90m━━━━━━━━━━━━━━━━━━━━━━━━━━━━━━━━━━━━━━\u001b[0m \u001b[32m608.2/608.2 KB\u001b[0m \u001b[31m34.7 MB/s\u001b[0m eta \u001b[36m0:00:00\u001b[0m\n",
            "\u001b[?25hRequirement already satisfied: importlib-metadata in /usr/local/lib/python3.9/dist-packages (from python-doctr[torch]) (6.1.0)\n",
            "Requirement already satisfied: tqdm>=4.30.0 in /usr/local/lib/python3.9/dist-packages (from python-doctr[torch]) (4.65.0)\n",
            "Requirement already satisfied: opencv-python<5.0.0,>=4.5.0 in /usr/local/lib/python3.9/dist-packages (from python-doctr[torch]) (4.7.0.72)\n",
            "Collecting unidecode>=1.0.0\n",
            "  Downloading Unidecode-1.3.6-py3-none-any.whl (235 kB)\n",
            "\u001b[2K     \u001b[90m━━━━━━━━━━━━━━━━━━━━━━━━━━━━━━━━━━━━━━\u001b[0m \u001b[32m235.9/235.9 KB\u001b[0m \u001b[31m11.8 MB/s\u001b[0m eta \u001b[36m0:00:00\u001b[0m\n",
            "\u001b[?25hCollecting huggingface-hub>=0.4.0\n",
            "  Downloading huggingface_hub-0.13.3-py3-none-any.whl (199 kB)\n",
            "\u001b[2K     \u001b[90m━━━━━━━━━━━━━━━━━━━━━━━━━━━━━━━━━━━━━━\u001b[0m \u001b[32m199.8/199.8 KB\u001b[0m \u001b[31m18.3 MB/s\u001b[0m eta \u001b[36m0:00:00\u001b[0m\n",
            "\u001b[?25hCollecting langdetect<2.0.0,>=1.0.9\n",
            "  Downloading langdetect-1.0.9.tar.gz (981 kB)\n",
            "\u001b[2K     \u001b[90m━━━━━━━━━━━━━━━━━━━━━━━━━━━━━━━━━━━━━━\u001b[0m \u001b[32m981.5/981.5 KB\u001b[0m \u001b[31m45.5 MB/s\u001b[0m eta \u001b[36m0:00:00\u001b[0m\n",
            "\u001b[?25h  Preparing metadata (setup.py) ... \u001b[?25l\u001b[?25hdone\n",
            "Collecting pypdfium2<4.0.0,>=3.0.0\n",
            "  Downloading pypdfium2-3.21.1-py3-none-manylinux_2_17_x86_64.manylinux2014_x86_64.whl (2.8 MB)\n",
            "\u001b[2K     \u001b[90m━━━━━━━━━━━━━━━━━━━━━━━━━━━━━━━━━━━━━━━━\u001b[0m \u001b[32m2.8/2.8 MB\u001b[0m \u001b[31m76.0 MB/s\u001b[0m eta \u001b[36m0:00:00\u001b[0m\n",
            "\u001b[?25hRequirement already satisfied: h5py<4.0.0,>=3.1.0 in /usr/local/lib/python3.9/dist-packages (from python-doctr[torch]) (3.8.0)\n",
            "Collecting mplcursors>=0.3\n",
            "  Downloading mplcursors-0.5.2.tar.gz (89 kB)\n",
            "\u001b[2K     \u001b[90m━━━━━━━━━━━━━━━━━━━━━━━━━━━━━━━━━━━━━━━━\u001b[0m \u001b[32m89.0/89.0 KB\u001b[0m \u001b[31m10.5 MB/s\u001b[0m eta \u001b[36m0:00:00\u001b[0m\n",
            "\u001b[?25h  Preparing metadata (setup.py) ... \u001b[?25l\u001b[?25hdone\n",
            "Collecting weasyprint>=55.0\n",
            "  Downloading weasyprint-58.1-py3-none-any.whl (265 kB)\n",
            "\u001b[2K     \u001b[90m━━━━━━━━━━━━━━━━━━━━━━━━━━━━━━━━━━━━━━\u001b[0m \u001b[32m265.6/265.6 KB\u001b[0m \u001b[31m22.4 MB/s\u001b[0m eta \u001b[36m0:00:00\u001b[0m\n",
            "\u001b[?25hRequirement already satisfied: torch>=1.8.0 in /usr/local/lib/python3.9/dist-packages (from python-doctr[torch]) (1.13.1+cu116)\n",
            "Requirement already satisfied: torchvision>=0.9.0 in /usr/local/lib/python3.9/dist-packages (from python-doctr[torch]) (0.14.1+cu116)\n",
            "Requirement already satisfied: requests in /usr/local/lib/python3.9/dist-packages (from huggingface-hub>=0.4.0->python-doctr[torch]) (2.27.1)\n",
            "Requirement already satisfied: typing-extensions>=3.7.4.3 in /usr/local/lib/python3.9/dist-packages (from huggingface-hub>=0.4.0->python-doctr[torch]) (4.5.0)\n",
            "Requirement already satisfied: pyyaml>=5.1 in /usr/local/lib/python3.9/dist-packages (from huggingface-hub>=0.4.0->python-doctr[torch]) (6.0)\n",
            "Requirement already satisfied: packaging>=20.9 in /usr/local/lib/python3.9/dist-packages (from huggingface-hub>=0.4.0->python-doctr[torch]) (23.0)\n",
            "Requirement already satisfied: filelock in /usr/local/lib/python3.9/dist-packages (from huggingface-hub>=0.4.0->python-doctr[torch]) (3.10.0)\n",
            "Requirement already satisfied: six in /usr/local/lib/python3.9/dist-packages (from langdetect<2.0.0,>=1.0.9->python-doctr[torch]) (1.16.0)\n",
            "Requirement already satisfied: cycler>=0.10 in /usr/local/lib/python3.9/dist-packages (from matplotlib>=3.1.0->python-doctr[torch]) (0.11.0)\n",
            "Requirement already satisfied: pyparsing>=2.3.1 in /usr/local/lib/python3.9/dist-packages (from matplotlib>=3.1.0->python-doctr[torch]) (3.0.9)\n",
            "Requirement already satisfied: importlib-resources>=3.2.0 in /usr/local/lib/python3.9/dist-packages (from matplotlib>=3.1.0->python-doctr[torch]) (5.12.0)\n",
            "Requirement already satisfied: kiwisolver>=1.0.1 in /usr/local/lib/python3.9/dist-packages (from matplotlib>=3.1.0->python-doctr[torch]) (1.4.4)\n",
            "Requirement already satisfied: fonttools>=4.22.0 in /usr/local/lib/python3.9/dist-packages (from matplotlib>=3.1.0->python-doctr[torch]) (4.39.2)\n",
            "Requirement already satisfied: python-dateutil>=2.7 in /usr/local/lib/python3.9/dist-packages (from matplotlib>=3.1.0->python-doctr[torch]) (2.8.2)\n",
            "Requirement already satisfied: contourpy>=1.0.1 in /usr/local/lib/python3.9/dist-packages (from matplotlib>=3.1.0->python-doctr[torch]) (1.0.7)\n",
            "Collecting Pillow>=8.3.2\n",
            "  Downloading Pillow-9.4.0-cp39-cp39-manylinux_2_28_x86_64.whl (3.4 MB)\n",
            "\u001b[2K     \u001b[90m━━━━━━━━━━━━━━━━━━━━━━━━━━━━━━━━━━━━━━━━\u001b[0m \u001b[32m3.4/3.4 MB\u001b[0m \u001b[31m54.8 MB/s\u001b[0m eta \u001b[36m0:00:00\u001b[0m\n",
            "\u001b[?25hRequirement already satisfied: html5lib>=1.1 in /usr/local/lib/python3.9/dist-packages (from weasyprint>=55.0->python-doctr[torch]) (1.1)\n",
            "Collecting pydyf>=0.5.0\n",
            "  Downloading pydyf-0.5.0-py3-none-any.whl (6.8 kB)\n",
            "Requirement already satisfied: tinycss2>=1.0.0 in /usr/local/lib/python3.9/dist-packages (from weasyprint>=55.0->python-doctr[torch]) (1.2.1)\n",
            "Requirement already satisfied: cffi>=0.6 in /usr/local/lib/python3.9/dist-packages (from weasyprint>=55.0->python-doctr[torch]) (1.15.1)\n",
            "Collecting cssselect2>=0.1\n",
            "  Downloading cssselect2-0.7.0-py3-none-any.whl (15 kB)\n",
            "Collecting Pyphen>=0.9.1\n",
            "  Downloading pyphen-0.14.0-py3-none-any.whl (2.0 MB)\n",
            "\u001b[2K     \u001b[90m━━━━━━━━━━━━━━━━━━━━━━━━━━━━━━━━━━━━━━━━\u001b[0m \u001b[32m2.0/2.0 MB\u001b[0m \u001b[31m55.1 MB/s\u001b[0m eta \u001b[36m0:00:00\u001b[0m\n",
            "\u001b[?25hRequirement already satisfied: zipp>=0.5 in /usr/local/lib/python3.9/dist-packages (from importlib-metadata->python-doctr[torch]) (3.15.0)\n",
            "Requirement already satisfied: pycparser in /usr/local/lib/python3.9/dist-packages (from cffi>=0.6->weasyprint>=55.0->python-doctr[torch]) (2.21)\n",
            "Requirement already satisfied: webencodings in /usr/local/lib/python3.9/dist-packages (from cssselect2>=0.1->weasyprint>=55.0->python-doctr[torch]) (0.5.1)\n",
            "Collecting zopfli>=0.1.4\n",
            "  Downloading zopfli-0.2.2-cp39-cp39-manylinux_2_5_x86_64.manylinux1_x86_64.whl (703 kB)\n",
            "\u001b[2K     \u001b[90m━━━━━━━━━━━━━━━━━━━━━━━━━━━━━━━━━━━━━━\u001b[0m \u001b[32m703.9/703.9 KB\u001b[0m \u001b[31m46.3 MB/s\u001b[0m eta \u001b[36m0:00:00\u001b[0m\n",
            "\u001b[?25hCollecting brotli>=1.0.1\n",
            "  Downloading Brotli-1.0.9-cp39-cp39-manylinux1_x86_64.whl (357 kB)\n",
            "\u001b[2K     \u001b[90m━━━━━━━━━━━━━━━━━━━━━━━━━━━━━━━━━━━━━━\u001b[0m \u001b[32m357.2/357.2 KB\u001b[0m \u001b[31m33.4 MB/s\u001b[0m eta \u001b[36m0:00:00\u001b[0m\n",
            "\u001b[?25hRequirement already satisfied: idna<4,>=2.5 in /usr/local/lib/python3.9/dist-packages (from requests->huggingface-hub>=0.4.0->python-doctr[torch]) (3.4)\n",
            "Requirement already satisfied: urllib3<1.27,>=1.21.1 in /usr/local/lib/python3.9/dist-packages (from requests->huggingface-hub>=0.4.0->python-doctr[torch]) (1.26.15)\n",
            "Requirement already satisfied: charset-normalizer~=2.0.0 in /usr/local/lib/python3.9/dist-packages (from requests->huggingface-hub>=0.4.0->python-doctr[torch]) (2.0.12)\n",
            "Requirement already satisfied: certifi>=2017.4.17 in /usr/local/lib/python3.9/dist-packages (from requests->huggingface-hub>=0.4.0->python-doctr[torch]) (2022.12.7)\n",
            "Building wheels for collected packages: langdetect, mplcursors\n",
            "  Building wheel for langdetect (setup.py) ... \u001b[?25l\u001b[?25hdone\n",
            "  Created wheel for langdetect: filename=langdetect-1.0.9-py3-none-any.whl size=993243 sha256=c2459c38014231cd0fb7168c4257d06de3364db20b2f0aaca8dbc24fb5b9a92c\n",
            "  Stored in directory: /root/.cache/pip/wheels/d1/c1/d9/7e068de779d863bc8f8fc9467d85e25cfe47fa5051fff1a1bb\n",
            "  Building wheel for mplcursors (setup.py) ... \u001b[?25l\u001b[?25hdone\n",
            "  Created wheel for mplcursors: filename=mplcursors-0.5.2-py3-none-any.whl size=21071 sha256=e02ee7cb817c02a6f03267c4394fc41f3b88f501a29dbdf040753aba904d6d8b\n",
            "  Stored in directory: /root/.cache/pip/wheels/b1/98/ff/4885c231adf3d185efdc38cf8aa2527f1b255ca714a43cb125\n",
            "Successfully built langdetect mplcursors\n",
            "Installing collected packages: pyclipper, brotli, zopfli, unidecode, shapely, rapidfuzz, Pyphen, pypdfium2, pydyf, Pillow, langdetect, huggingface-hub, cssselect2, weasyprint, mplcursors, python-doctr\n",
            "  Attempting uninstall: shapely\n",
            "    Found existing installation: shapely 2.0.1\n",
            "    Uninstalling shapely-2.0.1:\n",
            "      Successfully uninstalled shapely-2.0.1\n",
            "  Attempting uninstall: Pillow\n",
            "    Found existing installation: Pillow 8.4.0\n",
            "    Uninstalling Pillow-8.4.0:\n",
            "      Successfully uninstalled Pillow-8.4.0\n",
            "Successfully installed Pillow-9.4.0 Pyphen-0.14.0 brotli-1.0.9 cssselect2-0.7.0 huggingface-hub-0.13.3 langdetect-1.0.9 mplcursors-0.5.2 pyclipper-1.3.0.post4 pydyf-0.5.0 pypdfium2-3.21.1 python-doctr-0.6.0 rapidfuzz-2.13.7 shapely-1.8.5.post1 unidecode-1.3.6 weasyprint-58.1 zopfli-0.2.2\n"
          ]
        },
        {
          "output_type": "display_data",
          "data": {
            "application/vnd.colab-display-data+json": {
              "pip_warning": {
                "packages": [
                  "PIL"
                ]
              }
            }
          },
          "metadata": {}
        }
      ],
      "source": [
        "! pip install python-doctr[torch]"
      ]
    },
    {
      "cell_type": "markdown",
      "source": [
        "# Installing some fonts for rendering"
      ],
      "metadata": {
        "id": "jU1NWs9no1YW"
      }
    },
    {
      "cell_type": "code",
      "source": [
        "!sudo apt-get install fonts-freefont-ttf -y"
      ],
      "metadata": {
        "colab": {
          "base_uri": "https://localhost:8080/"
        },
        "id": "hLiXnvM1n0Ck",
        "outputId": "6da1ebee-d8d0-4c6a-8efe-ada5fb05831e"
      },
      "execution_count": null,
      "outputs": [
        {
          "output_type": "stream",
          "name": "stdout",
          "text": [
            "Reading package lists... Done\n",
            "Building dependency tree       \n",
            "Reading state information... Done\n",
            "The following NEW packages will be installed:\n",
            "  fonts-freefont-ttf\n",
            "0 upgraded, 1 newly installed, 0 to remove and 23 not upgraded.\n",
            "Need to get 2,440 kB of archives.\n",
            "After this operation, 6,705 kB of additional disk space will be used.\n",
            "Get:1 http://archive.ubuntu.com/ubuntu focal/main amd64 fonts-freefont-ttf all 20120503-10 [2,440 kB]\n",
            "Fetched 2,440 kB in 1s (2,593 kB/s)\n",
            "debconf: unable to initialize frontend: Dialog\n",
            "debconf: (No usable dialog-like program is installed, so the dialog based frontend cannot be used. at /usr/share/perl5/Debconf/FrontEnd/Dialog.pm line 76, <> line 1.)\n",
            "debconf: falling back to frontend: Readline\n",
            "debconf: unable to initialize frontend: Readline\n",
            "debconf: (This frontend requires a controlling tty.)\n",
            "debconf: falling back to frontend: Teletype\n",
            "dpkg-preconfigure: unable to re-open stdin: \n",
            "Selecting previously unselected package fonts-freefont-ttf.\n",
            "(Reading database ... 128285 files and directories currently installed.)\n",
            "Preparing to unpack .../fonts-freefont-ttf_20120503-10_all.deb ...\n",
            "Unpacking fonts-freefont-ttf (20120503-10) ...\n",
            "Setting up fonts-freefont-ttf (20120503-10) ...\n",
            "Processing triggers for fontconfig (2.13.1-2ubuntu3) ...\n"
          ]
        }
      ]
    },
    {
      "cell_type": "markdown",
      "source": [
        "# Importing Libraries"
      ],
      "metadata": {
        "id": "GmmTRwjHo7db"
      }
    },
    {
      "cell_type": "code",
      "source": [
        "%matplotlib inline\n",
        "import os\n",
        "\n",
        "# Let's pick the desired backend\n",
        "# os.environ['USE_TF'] = '1'\n",
        "os.environ['USE_TORCH'] = '1'\n",
        "\n",
        "import matplotlib.pyplot as plt\n",
        "\n",
        "from doctr.io import DocumentFile\n",
        "from doctr.models import ocr_predictor"
      ],
      "metadata": {
        "id": "to4oyLwyn9Rc"
      },
      "execution_count": null,
      "outputs": []
    },
    {
      "cell_type": "markdown",
      "source": [
        "# Downloading a sample file"
      ],
      "metadata": {
        "id": "9JjYF4J8pAGl"
      }
    },
    {
      "cell_type": "code",
      "source": [
        "# Download a sample\n",
        "!wget https://eforms.com/download/2019/01/Cash-Payment-Receipt-Template.pdf\n",
        "# Read the file\n",
        "doc = DocumentFile.from_pdf(\"Cash-Payment-Receipt-Template.pdf\")\n",
        "print(f\"Number of pages: {len(doc)}\")"
      ],
      "metadata": {
        "colab": {
          "base_uri": "https://localhost:8080/"
        },
        "id": "TVA31m_qoDyL",
        "outputId": "0e3f78f6-606e-4281-843f-0ac29e8d3de2"
      },
      "execution_count": null,
      "outputs": [
        {
          "output_type": "stream",
          "name": "stdout",
          "text": [
            "--2023-03-23 08:41:17--  https://eforms.com/download/2019/01/Cash-Payment-Receipt-Template.pdf\n",
            "Resolving eforms.com (eforms.com)... 172.67.185.85, 104.21.92.25, 2606:4700:3031::ac43:b955, ...\n",
            "Connecting to eforms.com (eforms.com)|172.67.185.85|:443... connected.\n",
            "HTTP request sent, awaiting response... 200 OK\n",
            "Length: 16080 (16K) [application/pdf]\n",
            "Saving to: ‘Cash-Payment-Receipt-Template.pdf’\n",
            "\n",
            "\r          Cash-Paym   0%[                    ]       0  --.-KB/s               \rCash-Payment-Receip 100%[===================>]  15.70K  --.-KB/s    in 0s      \n",
            "\n",
            "2023-03-23 08:41:17 (83.8 MB/s) - ‘Cash-Payment-Receipt-Template.pdf’ saved [16080/16080]\n",
            "\n",
            "Number of pages: 1\n"
          ]
        }
      ]
    },
    {
      "cell_type": "markdown",
      "source": [
        "# Instantiating an end-to-end predictor model"
      ],
      "metadata": {
        "id": "SvNNErjVpDzQ"
      }
    },
    {
      "cell_type": "code",
      "source": [
        "# Instantiate a pretrained model\n",
        "predictor = ocr_predictor(pretrained=True)"
      ],
      "metadata": {
        "colab": {
          "base_uri": "https://localhost:8080/",
          "height": 205,
          "referenced_widgets": [
            "2a4e64c4451b46479bcc9a53c8825cae",
            "e362d406534d48a3ab8c4394d8907854",
            "631e418c1c17475886722dad1308193d",
            "b81de2c22f0f4ecf827077f33d7b21c1",
            "dc0f850b62dc4a4d802c967e7ee5ea66",
            "b1f3052e3ba54737908636c71f49fc19",
            "237b6f1251e644b0949fbfe73980015a",
            "62771a10868c4a12ad080eb6d19d3ae6",
            "57095042eaff4415bf0337182b550cdb",
            "d68a5ad3f0f745ae82b3bfe2854dcd9d",
            "bb5ce7ee066b4a85924dbe0dcbfa8da1",
            "20729df9329640eaab8ad5ac5fd8eb65",
            "33174a4327c340e0839ba1bb5d941259",
            "8c3f20c95f9247feb039887f849333e9",
            "149c5ac5abbf4e6abb3b49809765d031",
            "3d3c7def3f27446a9347a23a10beb206",
            "86257766deea4ddfbb033ac5de7fb0cc",
            "060ffedb80b540bc92c08151472c48a9",
            "2a9017ae8c9f458d86befba815d1d738",
            "f1faf68c75f04ec5adc8d0d609b98f13",
            "4482129a248544bc957ec3ea81f823f1",
            "a06b14ce67724155a2d409e3c1a2f221"
          ]
        },
        "id": "CqcQnpIPoFDz",
        "outputId": "aa158197-7734-47ee-8433-c3fd3f49529d"
      },
      "execution_count": null,
      "outputs": [
        {
          "output_type": "stream",
          "name": "stderr",
          "text": [
            "/usr/local/lib/python3.9/dist-packages/torchvision/models/_utils.py:135: UserWarning: Using 'weights' as positional parameter(s) is deprecated since 0.13 and may be removed in the future. Please use keyword parameter(s) instead.\n",
            "  warnings.warn(\n",
            "/usr/local/lib/python3.9/dist-packages/torchvision/models/_utils.py:223: UserWarning: Arguments other than a weight enum or `None` for 'weights' are deprecated since 0.13 and may be removed in the future. The current behavior is equivalent to passing `weights=None`.\n",
            "  warnings.warn(msg)\n"
          ]
        },
        {
          "output_type": "stream",
          "name": "stdout",
          "text": [
            "Downloading https://doctr-static.mindee.com/models?id=v0.3.1/db_resnet50-ac60cadc.pt&src=0 to /root/.cache/doctr/models/db_resnet50-ac60cadc.pt\n"
          ]
        },
        {
          "output_type": "display_data",
          "data": {
            "text/plain": [
              "  0%|          | 0/101971449 [00:00<?, ?it/s]"
            ],
            "application/vnd.jupyter.widget-view+json": {
              "version_major": 2,
              "version_minor": 0,
              "model_id": "2a4e64c4451b46479bcc9a53c8825cae"
            }
          },
          "metadata": {}
        },
        {
          "output_type": "stream",
          "name": "stdout",
          "text": [
            "Downloading https://doctr-static.mindee.com/models?id=v0.3.1/crnn_vgg16_bn-9762b0b0.pt&src=0 to /root/.cache/doctr/models/crnn_vgg16_bn-9762b0b0.pt\n"
          ]
        },
        {
          "output_type": "display_data",
          "data": {
            "text/plain": [
              "  0%|          | 0/63286381 [00:00<?, ?it/s]"
            ],
            "application/vnd.jupyter.widget-view+json": {
              "version_major": 2,
              "version_minor": 0,
              "model_id": "20729df9329640eaab8ad5ac5fd8eb65"
            }
          },
          "metadata": {}
        }
      ]
    },
    {
      "cell_type": "code",
      "source": [
        "result = predictor(doc)"
      ],
      "metadata": {
        "id": "rMcm9IVyoT9A"
      },
      "execution_count": null,
      "outputs": []
    },
    {
      "cell_type": "markdown",
      "source": [
        "# Visualizing the result"
      ],
      "metadata": {
        "id": "mtig_ZZhpJ_V"
      }
    },
    {
      "cell_type": "code",
      "source": [
        "result.show(doc)"
      ],
      "metadata": {
        "colab": {
          "base_uri": "https://localhost:8080/",
          "height": 751
        },
        "id": "8-iujrDkoZBI",
        "outputId": "b9bc680b-3f3f-4b44-dba4-f6529532c31e"
      },
      "execution_count": null,
      "outputs": [
        {
          "output_type": "display_data",
          "data": {
            "text/plain": [
              "<Figure size 556.364x720 with 1 Axes>"
            ],
            "image/png": "[encoded data removed]"
          },
          "metadata": {
            "needs_background": "light"
          }
        }
      ]
    },
    {
      "cell_type": "markdown",
      "source": [
        "# Exporting result as JSON or XML"
      ],
      "metadata": {
        "id": "ex4lxPG4pOsp"
      }
    },
    {
      "cell_type": "code",
      "source": [
        "result.export()"
      ],
      "metadata": {
        "colab": {
          "base_uri": "https://localhost:8080/"
        },
        "id": "78gNbADPoaoc",
        "outputId": "ee6b8e07-1cb8-4dbe-c419-9db5ec90a139"
      },
      "execution_count": null,
      "outputs": [
        {
          "output_type": "execute_result",
          "data": {
            "text/plain": [
              "{'pages': [{'page_idx': 0,\n",
              "   'dimensions': (1584, 1224),\n",
              "   'orientation': {'value': None, 'confidence': None},\n",
              "   'language': {'value': None, 'confidence': None},\n",
              "   'blocks': [{'geometry': ((0.314453125, 0.0634765625),\n",
              "      (0.6875, 0.083984375)),\n",
              "     'lines': [{'geometry': ((0.314453125, 0.0634765625),\n",
              "        (0.6875, 0.083984375)),\n",
              "       'words': [{'value': 'CASH',\n",
              "         'confidence': 0.9991496801376343,\n",
              "         'geometry': ((0.314453125, 0.064453125), (0.3984375, 0.0830078125))},\n",
              "        {'value': 'PAYMENT',\n",
              "         'confidence': 0.9999822378158569,\n",
              "         'geometry': ((0.40625, 0.0634765625), (0.5517578125, 0.083984375))},\n",
              "        {'value': 'RECEIPT',\n",
              "         'confidence': 0.9982283711433411,\n",
              "         'geometry': ((0.55859375, 0.0634765625), (0.6875, 0.083984375))}]}],\n",
              "     'artefacts': []},\n",
              "    {'geometry': ((0.115234375, 0.11328125), (0.2783203125, 0.3037109375)),\n",
              "     'lines': [{'geometry': ((0.1171875, 0.11328125),\n",
              "        (0.2783203125, 0.134765625)),\n",
              "       'words': [{'value': 'Company',\n",
              "         'confidence': 0.9983744621276855,\n",
              "         'geometry': ((0.1171875, 0.11328125), (0.2109375, 0.134765625))},\n",
              "        {'value': 'Name:',\n",
              "         'confidence': 0.9669263362884521,\n",
              "         'geometry': ((0.212890625, 0.11328125),\n",
              "          (0.2783203125, 0.130859375))}]},\n",
              "      {'geometry': ((0.1162109375, 0.1318359375), (0.263671875, 0.150390625)),\n",
              "       'words': [{'value': 'Street',\n",
              "         'confidence': 0.9996938705444336,\n",
              "         'geometry': ((0.1162109375, 0.1318359375),\n",
              "          (0.1767578125, 0.150390625))},\n",
              "        {'value': 'Address:',\n",
              "         'confidence': 0.9818315505981445,\n",
              "         'geometry': ((0.1787109375, 0.1337890625),\n",
              "          (0.263671875, 0.1484375))}]},\n",
              "      {'geometry': ((0.115234375, 0.150390625), (0.2646484375, 0.1728515625)),\n",
              "       'words': [{'value': 'City,',\n",
              "         'confidence': 0.9999580383300781,\n",
              "         'geometry': ((0.115234375, 0.150390625),\n",
              "          (0.1630859375, 0.1728515625))},\n",
              "        {'value': 'State,',\n",
              "         'confidence': 0.9995167255401611,\n",
              "         'geometry': ((0.1650390625, 0.15234375), (0.22265625, 0.1708984375))},\n",
              "        {'value': 'Zip:',\n",
              "         'confidence': 0.9999489784240723,\n",
              "         'geometry': ((0.2236328125, 0.150390625),\n",
              "          (0.2646484375, 0.1728515625))}]},\n",
              "      {'geometry': ((0.1171875, 0.169921875), (0.1865234375, 0.1875)),\n",
              "       'words': [{'value': 'Phone:',\n",
              "         'confidence': 0.9998382329940796,\n",
              "         'geometry': ((0.1171875, 0.169921875), (0.1865234375, 0.1875))}]},\n",
              "      {'geometry': ((0.1171875, 0.189453125), (0.16015625, 0.205078125)),\n",
              "       'words': [{'value': 'Fax:',\n",
              "         'confidence': 0.9999557733535767,\n",
              "         'geometry': ((0.1171875, 0.189453125), (0.16015625, 0.205078125))}]},\n",
              "      {'geometry': ((0.1162109375, 0.20703125), (0.177734375, 0.224609375)),\n",
              "       'words': [{'value': 'Email:',\n",
              "         'confidence': 0.9965454936027527,\n",
              "         'geometry': ((0.1162109375, 0.20703125),\n",
              "          (0.177734375, 0.224609375))}]},\n",
              "      {'geometry': ((0.1162109375, 0.2275390625), (0.2001953125, 0.2421875)),\n",
              "       'words': [{'value': 'Website:',\n",
              "         'confidence': 0.9696999788284302,\n",
              "         'geometry': ((0.1162109375, 0.2275390625),\n",
              "          (0.2001953125, 0.2421875))}]},\n",
              "      {'geometry': ((0.1162109375, 0.2861328125),\n",
              "        (0.1708984375, 0.3037109375)),\n",
              "       'words': [{'value': 'Date:',\n",
              "         'confidence': 0.9999266862869263,\n",
              "         'geometry': ((0.1162109375, 0.2861328125),\n",
              "          (0.1708984375, 0.3037109375))}]}],\n",
              "     'artefacts': []},\n",
              "    {'geometry': ((0.6357421875, 0.287109375), (0.7333984375, 0.3056640625)),\n",
              "     'lines': [{'geometry': ((0.6357421875, 0.287109375),\n",
              "        (0.7333984375, 0.3056640625)),\n",
              "       'words': [{'value': 'Receipt',\n",
              "         'confidence': 0.9998490810394287,\n",
              "         'geometry': ((0.6357421875, 0.287109375),\n",
              "          (0.7099609375, 0.3056640625))},\n",
              "        {'value': '#:',\n",
              "         'confidence': 0.9998281002044678,\n",
              "         'geometry': ((0.7099609375, 0.287109375),\n",
              "          (0.7333984375, 0.3046875))}]}],\n",
              "     'artefacts': []},\n",
              "    {'geometry': ((0.37109375, 0.3701171875), (0.6298828125, 0.3916015625)),\n",
              "     'lines': [{'geometry': ((0.37109375, 0.3701171875),\n",
              "        (0.6298828125, 0.3916015625)),\n",
              "       'words': [{'value': 'Payment',\n",
              "         'confidence': 0.9969423413276672,\n",
              "         'geometry': ((0.37109375, 0.3701171875), (0.48046875, 0.3916015625))},\n",
              "        {'value': 'Information',\n",
              "         'confidence': 0.9889318943023682,\n",
              "         'geometry': ((0.4873046875, 0.3701171875),\n",
              "          (0.6298828125, 0.3876953125))}]}],\n",
              "     'artefacts': []},\n",
              "    {'geometry': ((0.1162109375, 0.416015625), (0.2763671875, 0.517578125)),\n",
              "     'lines': [{'geometry': ((0.1171875, 0.416015625),\n",
              "        (0.19921875, 0.4365234375)),\n",
              "       'words': [{'value': 'Paid',\n",
              "         'confidence': 0.9952661991119385,\n",
              "         'geometry': ((0.1171875, 0.4169921875), (0.162109375, 0.4326171875))},\n",
              "        {'value': 'By:',\n",
              "         'confidence': 0.999660849571228,\n",
              "         'geometry': ((0.1640625, 0.416015625), (0.19921875, 0.4365234375))}]},\n",
              "      {'geometry': ((0.1162109375, 0.4580078125), (0.2470703125, 0.474609375)),\n",
              "       'words': [{'value': 'Amount',\n",
              "         'confidence': 0.8845925331115723,\n",
              "         'geometry': ((0.1162109375, 0.4580078125),\n",
              "          (0.1923828125, 0.47265625))},\n",
              "        {'value': 'Paid:',\n",
              "         'confidence': 0.9999610185623169,\n",
              "         'geometry': ((0.1962890625, 0.4580078125),\n",
              "          (0.2470703125, 0.474609375))}]},\n",
              "      {'geometry': ((0.1162109375, 0.4970703125), (0.2763671875, 0.517578125)),\n",
              "       'words': [{'value': 'For',\n",
              "         'confidence': 0.9990000128746033,\n",
              "         'geometry': ((0.1162109375, 0.4970703125), (0.1533203125, 0.515625))},\n",
              "        {'value': 'Payment',\n",
              "         'confidence': 0.9996603727340698,\n",
              "         'geometry': ((0.1552734375, 0.4990234375),\n",
              "          (0.2412109375, 0.517578125))},\n",
              "        {'value': 'Of:',\n",
              "         'confidence': 0.9992493987083435,\n",
              "         'geometry': ((0.2421875, 0.4970703125),\n",
              "          (0.2763671875, 0.5166015625))}]}],\n",
              "     'artefacts': []},\n",
              "    {'geometry': ((0.5751953125, 0.4560546875), (0.671875, 0.4775390625)),\n",
              "     'lines': [{'geometry': ((0.5751953125, 0.4560546875),\n",
              "        (0.671875, 0.4775390625)),\n",
              "       'words': [{'value': 'Dollars',\n",
              "         'confidence': 0.9999567270278931,\n",
              "         'geometry': ((0.5751953125, 0.45703125), (0.64453125, 0.474609375))},\n",
              "        {'value': '($',\n",
              "         'confidence': 0.8891334533691406,\n",
              "         'geometry': ((0.646484375, 0.4560546875),\n",
              "          (0.671875, 0.4775390625))}]}],\n",
              "     'artefacts': []},\n",
              "    {'geometry': ((0.6005859375, 0.5693359375), (0.74609375, 0.65234375)),\n",
              "     'lines': [{'geometry': ((0.638671875, 0.5693359375),\n",
              "        (0.74609375, 0.5888671875)),\n",
              "       'words': [{'value': 'Subtotal:',\n",
              "         'confidence': 0.9910123348236084,\n",
              "         'geometry': ((0.638671875, 0.5712890625), (0.7236328125, 0.5859375))},\n",
              "        {'value': '$',\n",
              "         'confidence': 0.9905773401260376,\n",
              "         'geometry': ((0.7265625, 0.5693359375),\n",
              "          (0.74609375, 0.5888671875))}]},\n",
              "      {'geometry': ((0.6005859375, 0.6005859375), (0.73828125, 0.623046875)),\n",
              "       'words': [{'value': 'Tax',\n",
              "         'confidence': 0.9200722575187683,\n",
              "         'geometry': ((0.6005859375, 0.6005859375),\n",
              "          (0.642578125, 0.619140625))},\n",
              "        {'value': 'Rate',\n",
              "         'confidence': 0.9997021555900574,\n",
              "         'geometry': ((0.64453125, 0.6025390625), (0.69140625, 0.6181640625))},\n",
              "        {'value': '(%):',\n",
              "         'confidence': 0.9982444047927856,\n",
              "         'geometry': ((0.6943359375, 0.6005859375),\n",
              "          (0.73828125, 0.623046875))}]},\n",
              "      {'geometry': ((0.626953125, 0.6318359375), (0.74609375, 0.65234375)),\n",
              "       'words': [{'value': 'Total',\n",
              "         'confidence': 0.9508140087127686,\n",
              "         'geometry': ((0.626953125, 0.6337890625),\n",
              "          (0.677734375, 0.650390625))},\n",
              "        {'value': 'Tax:',\n",
              "         'confidence': 0.999921441078186,\n",
              "         'geometry': ((0.6796875, 0.6337890625),\n",
              "          (0.7236328125, 0.6494140625))},\n",
              "        {'value': '$',\n",
              "         'confidence': 0.9962361454963684,\n",
              "         'geometry': ((0.7265625, 0.6318359375), (0.74609375, 0.65234375))}]}],\n",
              "     'artefacts': []},\n",
              "    {'geometry': ((0.533203125, 0.6630859375), (0.7490234375, 0.7470703125)),\n",
              "     'lines': [{'geometry': ((0.5439453125, 0.6630859375),\n",
              "        (0.7490234375, 0.685546875)),\n",
              "       'words': [{'value': 'Total',\n",
              "         'confidence': 0.6782151460647583,\n",
              "         'geometry': ((0.5439453125, 0.6640625), (0.595703125, 0.6826171875))},\n",
              "        {'value': 'Amount',\n",
              "         'confidence': 0.9708536863327026,\n",
              "         'geometry': ((0.59765625, 0.666015625), (0.673828125, 0.6806640625))},\n",
              "        {'value': 'Due:',\n",
              "         'confidence': 0.9908701777458191,\n",
              "         'geometry': ((0.677734375, 0.666015625),\n",
              "          (0.7236328125, 0.681640625))},\n",
              "        {'value': '$',\n",
              "         'confidence': 0.9960534572601318,\n",
              "         'geometry': ((0.7255859375, 0.6630859375),\n",
              "          (0.7490234375, 0.685546875))}]},\n",
              "      {'geometry': ((0.5947265625, 0.6953125), (0.7451171875, 0.7158203125)),\n",
              "       'words': [{'value': 'Amount',\n",
              "         'confidence': 0.9975472092628479,\n",
              "         'geometry': ((0.5947265625, 0.697265625),\n",
              "          (0.669921875, 0.7119140625))},\n",
              "        {'value': 'Paid:',\n",
              "         'confidence': 0.9769516587257385,\n",
              "         'geometry': ((0.6748046875, 0.697265625),\n",
              "          (0.7236328125, 0.712890625))},\n",
              "        {'value': '$',\n",
              "         'confidence': 0.6455327868461609,\n",
              "         'geometry': ((0.7255859375, 0.6953125),\n",
              "          (0.7451171875, 0.7158203125))}]},\n",
              "      {'geometry': ((0.533203125, 0.7265625), (0.744140625, 0.7470703125)),\n",
              "       'words': [{'value': 'Remaining',\n",
              "         'confidence': 0.9975044131278992,\n",
              "         'geometry': ((0.533203125, 0.7294921875),\n",
              "          (0.6357421875, 0.7470703125))},\n",
              "        {'value': 'Balance:',\n",
              "         'confidence': 0.999308705329895,\n",
              "         'geometry': ((0.6396484375, 0.7294921875),\n",
              "          (0.72265625, 0.744140625))},\n",
              "        {'value': '$',\n",
              "         'confidence': 0.9855644106864929,\n",
              "         'geometry': ((0.7255859375, 0.7265625),\n",
              "          (0.744140625, 0.7470703125))}]}],\n",
              "     'artefacts': []},\n",
              "    {'geometry': ((0.1171875, 0.80078125), (0.333984375, 0.861328125)),\n",
              "     'lines': [{'geometry': ((0.1181640625, 0.80078125),\n",
              "        (0.2451171875, 0.8212890625)),\n",
              "       'words': [{'value': 'Received',\n",
              "         'confidence': 0.999503493309021,\n",
              "         'geometry': ((0.1181640625, 0.8017578125),\n",
              "          (0.2080078125, 0.81640625))},\n",
              "        {'value': 'By:',\n",
              "         'confidence': 0.9999250173568726,\n",
              "         'geometry': ((0.2109375, 0.80078125),\n",
              "          (0.2451171875, 0.8212890625))}]},\n",
              "      {'geometry': ((0.1171875, 0.8408203125), (0.333984375, 0.861328125)),\n",
              "       'words': [{'value': 'Authorized',\n",
              "         'confidence': 0.9200043678283691,\n",
              "         'geometry': ((0.1171875, 0.8427734375), (0.228515625, 0.8564453125))},\n",
              "        {'value': 'Signature',\n",
              "         'confidence': 0.9994805455207825,\n",
              "         'geometry': ((0.2333984375, 0.8408203125),\n",
              "          (0.333984375, 0.861328125))}]}],\n",
              "     'artefacts': []},\n",
              "    {'geometry': ((0.8271484375, 0.94140625), (0.9013671875, 0.9599609375)),\n",
              "     'lines': [{'geometry': ((0.8271484375, 0.94140625),\n",
              "        (0.9013671875, 0.9599609375)),\n",
              "       'words': [{'value': 'Page',\n",
              "         'confidence': 0.9994620680809021,\n",
              "         'geometry': ((0.8271484375, 0.94140625),\n",
              "          (0.869140625, 0.9599609375))},\n",
              "        {'value': '1',\n",
              "         'confidence': 0.9896445274353027,\n",
              "         'geometry': ((0.8701171875, 0.94140625), (0.8828125, 0.9560546875))},\n",
              "        {'value': 'of',\n",
              "         'confidence': 0.9998646974563599,\n",
              "         'geometry': ((0.8828125, 0.9423828125),\n",
              "          (0.9013671875, 0.9560546875))}]}],\n",
              "     'artefacts': []}]}]}"
            ]
          },
          "metadata": {},
          "execution_count": 6
        }
      ]
    },
    {
      "cell_type": "code",
      "source": [
        "result.export_as_xml()"
      ],
      "metadata": {
        "colab": {
          "base_uri": "https://localhost:8080/"
        },
        "id": "5jbMNByUohdZ",
        "outputId": "5a68be0c-84e7-4c5c-deaa-fcb378cf81a5"
      },
      "execution_count": null,
      "outputs": [
        {
          "output_type": "execute_result",
          "data": {
            "text/plain": [
              "[(b'<html xmlns=\"http://www.w3.org/1999/xhtml\" xml:lang=\"en\"><head><title>docTR - XML export (hOCR)</title><meta http-equiv=\"Content-Type\" content=\"text/html; charset=utf-8\" /><meta name=\"ocr-system\" content=\"python-doctr v0.6.0\" /><meta name=\"ocr-capabilities\" content=\"ocr_page ocr_carea ocr_par ocr_line ocrx_word\" /></head><body><div class=\"ocr_page\" id=\"page_1\" title=\"image; bbox 0 0 1224 1584; ppageno 0\" /><div class=\"ocr_carea\" id=\"block_1\" title=\"bbox 385 101                     842 133\"><p class=\"ocr_par\" id=\"par_1\" title=\"bbox 385 101                     842 133\"><span class=\"ocr_line\" id=\"line_1\" title=\"bbox 385 101                         842 133;                         baseline 0 0; x_size 0; x_descenders 0; x_ascenders 0\"><span class=\"ocrx_word\" id=\"word_1\" title=\"bbox 385 102                             488 131;                             x_wconf 100\">CASH</span><span class=\"ocrx_word\" id=\"word_2\" title=\"bbox 497 101                             675 133;                             x_wconf 100\">PAYMENT</span><span class=\"ocrx_word\" id=\"word_3\" title=\"bbox 684 101                             842 133;                             x_wconf 100\">RECEIPT</span></span></p></div><div class=\"ocr_carea\" id=\"block_2\" title=\"bbox 141 179                     341 481\"><p class=\"ocr_par\" id=\"par_2\" title=\"bbox 141 179                     341 481\"><span class=\"ocr_line\" id=\"line_2\" title=\"bbox 143 179                         341 213;                         baseline 0 0; x_size 0; x_descenders 0; x_ascenders 0\"><span class=\"ocrx_word\" id=\"word_4\" title=\"bbox 143 179                             258 213;                             x_wconf 100\">Company</span><span class=\"ocrx_word\" id=\"word_5\" title=\"bbox 261 179                             341 207;                             x_wconf 97\">Name:</span></span><span class=\"ocr_line\" id=\"line_3\" title=\"bbox 142 209                         323 238;                         baseline 0 0; x_size 0; x_descenders 0; x_ascenders 0\"><span class=\"ocrx_word\" id=\"word_6\" title=\"bbox 142 209                             216 238;                             x_wconf 100\">Street</span><span class=\"ocrx_word\" id=\"word_7\" title=\"bbox 219 212                             323 235;                             x_wconf 98\">Address:</span></span><span class=\"ocr_line\" id=\"line_4\" title=\"bbox 141 238                         324 274;                         baseline 0 0; x_size 0; x_descenders 0; x_ascenders 0\"><span class=\"ocrx_word\" id=\"word_8\" title=\"bbox 141 238                             200 274;                             x_wconf 100\">City,</span><span class=\"ocrx_word\" id=\"word_9\" title=\"bbox 202 241                             273 271;                             x_wconf 100\">State,</span><span class=\"ocrx_word\" id=\"word_10\" title=\"bbox 274 238                             324 274;                             x_wconf 100\">Zip:</span></span><span class=\"ocr_line\" id=\"line_5\" title=\"bbox 143 269                         228 297;                         baseline 0 0; x_size 0; x_descenders 0; x_ascenders 0\"><span class=\"ocrx_word\" id=\"word_11\" title=\"bbox 143 269                             228 297;                             x_wconf 100\">Phone:</span></span><span class=\"ocr_line\" id=\"line_6\" title=\"bbox 143 300                         196 325;                         baseline 0 0; x_size 0; x_descenders 0; x_ascenders 0\"><span class=\"ocrx_word\" id=\"word_12\" title=\"bbox 143 300                             196 325;                             x_wconf 100\">Fax:</span></span><span class=\"ocr_line\" id=\"line_7\" title=\"bbox 142 328                         218 356;                         baseline 0 0; x_size 0; x_descenders 0; x_ascenders 0\"><span class=\"ocrx_word\" id=\"word_13\" title=\"bbox 142 328                             218 356;                             x_wconf 100\">Email:</span></span><span class=\"ocr_line\" id=\"line_8\" title=\"bbox 142 360                         245 384;                         baseline 0 0; x_size 0; x_descenders 0; x_ascenders 0\"><span class=\"ocrx_word\" id=\"word_14\" title=\"bbox 142 360                             245 384;                             x_wconf 97\">Website:</span></span><span class=\"ocr_line\" id=\"line_9\" title=\"bbox 142 453                         209 481;                         baseline 0 0; x_size 0; x_descenders 0; x_ascenders 0\"><span class=\"ocrx_word\" id=\"word_15\" title=\"bbox 142 453                             209 481;                             x_wconf 100\">Date:</span></span></p></div><div class=\"ocr_carea\" id=\"block_3\" title=\"bbox 778 455                     898 484\"><p class=\"ocr_par\" id=\"par_3\" title=\"bbox 778 455                     898 484\"><span class=\"ocr_line\" id=\"line_10\" title=\"bbox 778 455                         898 484;                         baseline 0 0; x_size 0; x_descenders 0; x_ascenders 0\"><span class=\"ocrx_word\" id=\"word_16\" title=\"bbox 778 455                             869 484;                             x_wconf 100\">Receipt</span><span class=\"ocrx_word\" id=\"word_17\" title=\"bbox 869 455                             898 483;                             x_wconf 100\">#:</span></span></p></div><div class=\"ocr_carea\" id=\"block_4\" title=\"bbox 454 586                     771 620\"><p class=\"ocr_par\" id=\"par_4\" title=\"bbox 454 586                     771 620\"><span class=\"ocr_line\" id=\"line_11\" title=\"bbox 454 586                         771 620;                         baseline 0 0; x_size 0; x_descenders 0; x_ascenders 0\"><span class=\"ocrx_word\" id=\"word_18\" title=\"bbox 454 586                             588 620;                             x_wconf 100\">Payment</span><span class=\"ocrx_word\" id=\"word_19\" title=\"bbox 596 586                             771 614;                             x_wconf 99\">Information</span></span></p></div><div class=\"ocr_carea\" id=\"block_5\" title=\"bbox 142 659                     338 820\"><p class=\"ocr_par\" id=\"par_5\" title=\"bbox 142 659                     338 820\"><span class=\"ocr_line\" id=\"line_12\" title=\"bbox 143 659                         244 691;                         baseline 0 0; x_size 0; x_descenders 0; x_ascenders 0\"><span class=\"ocrx_word\" id=\"word_20\" title=\"bbox 143 661                             198 685;                             x_wconf 100\">Paid</span><span class=\"ocrx_word\" id=\"word_21\" title=\"bbox 201 659                             244 691;                             x_wconf 100\">By:</span></span><span class=\"ocr_line\" id=\"line_13\" title=\"bbox 142 725                         302 752;                         baseline 0 0; x_size 0; x_descenders 0; x_ascenders 0\"><span class=\"ocrx_word\" id=\"word_22\" title=\"bbox 142 725                             235 749;                             x_wconf 88\">Amount</span><span class=\"ocrx_word\" id=\"word_23\" title=\"bbox 240 725                             302 752;                             x_wconf 100\">Paid:</span></span><span class=\"ocr_line\" id=\"line_14\" title=\"bbox 142 787                         338 820;                         baseline 0 0; x_size 0; x_descenders 0; x_ascenders 0\"><span class=\"ocrx_word\" id=\"word_24\" title=\"bbox 142 787                             188 817;                             x_wconf 100\">For</span><span class=\"ocrx_word\" id=\"word_25\" title=\"bbox 190 790                             295 820;                             x_wconf 100\">Payment</span><span class=\"ocrx_word\" id=\"word_26\" title=\"bbox 296 787                             338 818;                             x_wconf 100\">Of:</span></span></p></div><div class=\"ocr_carea\" id=\"block_6\" title=\"bbox 704 722                     822 756\"><p class=\"ocr_par\" id=\"par_6\" title=\"bbox 704 722                     822 756\"><span class=\"ocr_line\" id=\"line_15\" title=\"bbox 704 722                         822 756;                         baseline 0 0; x_size 0; x_descenders 0; x_ascenders 0\"><span class=\"ocrx_word\" id=\"word_27\" title=\"bbox 704 724                             789 752;                             x_wconf 100\">Dollars</span><span class=\"ocrx_word\" id=\"word_28\" title=\"bbox 791 722                             822 756;                             x_wconf 89\">($</span></span></p></div><div class=\"ocr_carea\" id=\"block_7\" title=\"bbox 735 902                     913 1033\"><p class=\"ocr_par\" id=\"par_7\" title=\"bbox 735 902                     913 1033\"><span class=\"ocr_line\" id=\"line_16\" title=\"bbox 782 902                         913 933;                         baseline 0 0; x_size 0; x_descenders 0; x_ascenders 0\"><span class=\"ocrx_word\" id=\"word_29\" title=\"bbox 782 905                             886 928;                             x_wconf 99\">Subtotal:</span><span class=\"ocrx_word\" id=\"word_30\" title=\"bbox 889 902                             913 933;                             x_wconf 99\">$</span></span><span class=\"ocr_line\" id=\"line_17\" title=\"bbox 735 951                         904 987;                         baseline 0 0; x_size 0; x_descenders 0; x_ascenders 0\"><span class=\"ocrx_word\" id=\"word_31\" title=\"bbox 735 951                             787 981;                             x_wconf 92\">Tax</span><span class=\"ocrx_word\" id=\"word_32\" title=\"bbox 789 954                             846 979;                             x_wconf 100\">Rate</span><span class=\"ocrx_word\" id=\"word_33\" title=\"bbox 850 951                             904 987;                             x_wconf 100\">(%):</span></span><span class=\"ocr_line\" id=\"line_18\" title=\"bbox 767 1001                         913 1033;                         baseline 0 0; x_size 0; x_descenders 0; x_ascenders 0\"><span class=\"ocrx_word\" id=\"word_34\" title=\"bbox 767 1004                             830 1030;                             x_wconf 95\">Total</span><span class=\"ocrx_word\" id=\"word_35\" title=\"bbox 832 1004                             886 1029;                             x_wconf 100\">Tax:</span><span class=\"ocrx_word\" id=\"word_36\" title=\"bbox 889 1001                             913 1033;                             x_wconf 100\">$</span></span></p></div><div class=\"ocr_carea\" id=\"block_8\" title=\"bbox 653 1050                     917 1183\"><p class=\"ocr_par\" id=\"par_8\" title=\"bbox 653 1050                     917 1183\"><span class=\"ocr_line\" id=\"line_19\" title=\"bbox 666 1050                         917 1086;                         baseline 0 0; x_size 0; x_descenders 0; x_ascenders 0\"><span class=\"ocrx_word\" id=\"word_37\" title=\"bbox 666 1052                             729 1081;                             x_wconf 68\">Total</span><span class=\"ocrx_word\" id=\"word_38\" title=\"bbox 732 1055                             825 1078;                             x_wconf 97\">Amount</span><span class=\"ocrx_word\" id=\"word_39\" title=\"bbox 830 1055                             886 1080;                             x_wconf 99\">Due:</span><span class=\"ocrx_word\" id=\"word_40\" title=\"bbox 888 1050                             917 1086;                             x_wconf 100\">$</span></span><span class=\"ocr_line\" id=\"line_20\" title=\"bbox 728 1101                         912 1134;                         baseline 0 0; x_size 0; x_descenders 0; x_ascenders 0\"><span class=\"ocrx_word\" id=\"word_41\" title=\"bbox 728 1104                             820 1128;                             x_wconf 100\">Amount</span><span class=\"ocrx_word\" id=\"word_42\" title=\"bbox 826 1104                             886 1129;                             x_wconf 98\">Paid:</span><span class=\"ocrx_word\" id=\"word_43\" title=\"bbox 888 1101                             912 1134;                             x_wconf 65\">$</span></span><span class=\"ocr_line\" id=\"line_21\" title=\"bbox 653 1151                         911 1183;                         baseline 0 0; x_size 0; x_descenders 0; x_ascenders 0\"><span class=\"ocrx_word\" id=\"word_44\" title=\"bbox 653 1156                             778 1183;                             x_wconf 100\">Remaining</span><span class=\"ocrx_word\" id=\"word_45\" title=\"bbox 783 1156                             885 1179;                             x_wconf 100\">Balance:</span><span class=\"ocrx_word\" id=\"word_46\" title=\"bbox 888 1151                             911 1183;                             x_wconf 99\">$</span></span></p></div><div class=\"ocr_carea\" id=\"block_9\" title=\"bbox 143 1268                     409 1364\"><p class=\"ocr_par\" id=\"par_9\" title=\"bbox 143 1268                     409 1364\"><span class=\"ocr_line\" id=\"line_22\" title=\"bbox 145 1268                         300 1301;                         baseline 0 0; x_size 0; x_descenders 0; x_ascenders 0\"><span class=\"ocrx_word\" id=\"word_47\" title=\"bbox 145 1270                             255 1293;                             x_wconf 100\">Received</span><span class=\"ocrx_word\" id=\"word_48\" title=\"bbox 258 1268                             300 1301;                             x_wconf 100\">By:</span></span><span class=\"ocr_line\" id=\"line_23\" title=\"bbox 143 1332                         409 1364;                         baseline 0 0; x_size 0; x_descenders 0; x_ascenders 0\"><span class=\"ocrx_word\" id=\"word_49\" title=\"bbox 143 1335                             280 1357;                             x_wconf 92\">Authorized</span><span class=\"ocrx_word\" id=\"word_50\" title=\"bbox 286 1332                             409 1364;                             x_wconf 100\">Signature</span></span></p></div><div class=\"ocr_carea\" id=\"block_10\" title=\"bbox 1012 1491                     1103 1521\"><p class=\"ocr_par\" id=\"par_10\" title=\"bbox 1012 1491                     1103 1521\"><span class=\"ocr_line\" id=\"line_24\" title=\"bbox 1012 1491                         1103 1521;                         baseline 0 0; x_size 0; x_descenders 0; x_ascenders 0\"><span class=\"ocrx_word\" id=\"word_51\" title=\"bbox 1012 1491                             1064 1521;                             x_wconf 100\">Page</span><span class=\"ocrx_word\" id=\"word_52\" title=\"bbox 1065 1491                             1081 1514;                             x_wconf 99\">1</span><span class=\"ocrx_word\" id=\"word_53\" title=\"bbox 1081 1493                             1103 1514;                             x_wconf 100\">of</span></span></p></div></body></html>',\n",
              "  <xml.etree.ElementTree.ElementTree at 0x7fb442590a30>)]"
            ]
          },
          "metadata": {},
          "execution_count": 8
        }
      ]
    },
    {
      "cell_type": "code",
      "source": [],
      "metadata": {
        "id": "4IybWcDxonRM"
      },
      "execution_count": null,
      "outputs": []
    }
  ]
}